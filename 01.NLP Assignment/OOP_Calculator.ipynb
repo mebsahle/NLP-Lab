{
 "cells": [
  {
   "cell_type": "markdown",
   "metadata": {},
   "source": [
    "## Welcome To the Pythonista OOP Calculator"
   ]
  },
  {
   "cell_type": "markdown",
   "metadata": {},
   "source": [
    "### The Class"
   ]
  },
  {
   "cell_type": "code",
   "execution_count": null,
   "metadata": {},
   "outputs": [],
   "source": [
    "class Calculator():\n",
    "\n",
    "    \"\"\"\n",
    "       Python Calculator using Object-Oriented Programming\n",
    "       by Mebatsion Sahle\n",
    "       April 09, 2021\n",
    "    \"\"\"\n",
    "\n",
    "    # 1\n",
    "    def add(self, x, y):\n",
    "        return x + y\n",
    "    #2\n",
    "    def subtract(self, x, y):\n",
    "        return x - y\n",
    "    #3\n",
    "    def multiply(self, x, y):\n",
    "        return x * y\n",
    "    #4\n",
    "    def divide(self, x, y):\n",
    "        return x/y\n",
    "    #5\n",
    "    def integerDivision(self, x, y):\n",
    "        return x // y\n",
    "    #6\n",
    "    def remainder(self, x, y):\n",
    "        return x % y\n",
    "    #7\n",
    "    def percent(self, x):\n",
    "        return x / 100\n",
    "    #8\n",
    "    def power(self, x, y):\n",
    "        return x ** y\n",
    "    #9\n",
    "    def log(self, x):\n",
    "        \n",
    "        # import math module to calculate logarithm\n",
    "        import math\n",
    "        # round to 3 digits after decimal points\n",
    "        return round(math.log(x), 3)\n"
   ]
  },
  {
   "cell_type": "markdown",
   "metadata": {},
   "source": [
    "### Main Function"
   ]
  },
  {
   "cell_type": "code",
   "execution_count": null,
   "metadata": {},
   "outputs": [],
   "source": [
    "print(\"******************\")\n",
    "print(\"*** Main Menu ****\")\n",
    "print(\"******************\")\n",
    "\n",
    "print(\"1. Add two numbers\")\n",
    "print(\"2. Subtract two numbers\")\n",
    "print(\"3. Multiply two numbers\")\n",
    "print(\"4. Divide two numbers\")\n",
    "print(\"5. Integer Division\")\n",
    "print(\"6. Remainder or Modulo Operation\")\n",
    "print(\"7. Percent of a number\")\n",
    "print(\"8. Power x^y\")\n",
    "print(\"9. Logarithm of a number\")\n",
    "print(\"0. Terminate the program\")\n",
    "\n",
    "# importing IPython to clear output of the cell after each output\n",
    "from IPython.display import clear_output\n",
    "\n",
    "calculator = Calculator()\n",
    "while True:\n",
    "    \n",
    "    try:\n",
    "        print(\"Select you choice number from the main menu: \")\n",
    "        choice = int(input())\n",
    "\n",
    "        if choice == 1:\n",
    "            print(\"Nice let's Add two numbers\")\n",
    "            a, b = map(int, input(\"Enter two numbers\").split())\n",
    "            print(f\"{a} + {b} = {calculator.add(a, b)}\")\n",
    "\n",
    "        elif choice == 2:\n",
    "            print(\"Nice let's Subtract two numbers\")\n",
    "            a, b = map(int, input(\"Enter two numbers\").split())\n",
    "            print(f\"{a} - {b} = {calculator.subtract(a, b)}\")\n",
    "\n",
    "        elif choice == 3:\n",
    "            print(\"Nice let's Multiply two numbers\")\n",
    "            a, b = map(int, input(\"Enter two numbers\").split())\n",
    "            print(f\"{a} * {b} = {calculator.multiply(a, b)}\", flush=True)\n",
    "\n",
    "        elif choice == 4:\n",
    "            print(\"Nice let's Divide two numbers\")\n",
    "            a, b = map(int, input(\"Enter two numbers\").split())\n",
    "            print(f\"{a} / {b} = {calculator.divide(a, b)}\")\n",
    "\n",
    "        elif choice == 5:\n",
    "            print(\"Nice let's calculate Floor Division of two numbers\")\n",
    "            a, b = map(int, input(\"Enter two numbers\").split())\n",
    "            print(f\"{a} // {b} = {calculator.integerDivision(a, b)}\")\n",
    "\n",
    "        elif choice == 6:\n",
    "            print(\"Nice let's calculate remainder of two numbers\")\n",
    "            a, b = map(int, input(\"Enter two numbers\").split())\n",
    "            print(f\"{a} * {b} = {calculator.remainder(a, b)}\")\n",
    "\n",
    "        elif choice == 7:\n",
    "            print(\"Nice let's calculate percent of a number\")\n",
    "            a = int(input(\"Enter a number\"))\n",
    "            print(f\"{a} / 100 = {calculator.percent(a)}\")\n",
    "            \n",
    "        elif choice == 8:\n",
    "            print(\"Nice let's calculate the raised power of a number\")\n",
    "            a, b = map(int, input(\"Enter two numbers\").split())\n",
    "            print(f\"{a} ** {b} = {calculator.power(a, b)}\")\n",
    "\n",
    "        elif choice == 9:\n",
    "            print(\"Nice let's calculate\")\n",
    "            a = int(input(\"Enter a number\"))\n",
    "            print(f\" logarithm of {a} = {calculator.log(a)}\")\n",
    "            \n",
    "        elif choice == 0:\n",
    "            break\n",
    "    except EOFError:\n",
    "        pass\n"
   ]
  },
  {
   "cell_type": "markdown",
   "metadata": {},
   "source": [
    "### Mebatsion Sahle"
   ]
  },
  {
   "cell_type": "code",
   "execution_count": null,
   "metadata": {},
   "outputs": [],
   "source": []
  }
 ],
 "metadata": {
  "kernelspec": {
   "display_name": "Python 3",
   "language": "python",
   "name": "python3"
  },
  "language_info": {
   "codemirror_mode": {
    "name": "ipython",
    "version": 3
   },
   "file_extension": ".py",
   "mimetype": "text/x-python",
   "name": "python",
   "nbconvert_exporter": "python",
   "pygments_lexer": "ipython3",
   "version": "3.7.4"
  }
 },
 "nbformat": 4,
 "nbformat_minor": 4
}
