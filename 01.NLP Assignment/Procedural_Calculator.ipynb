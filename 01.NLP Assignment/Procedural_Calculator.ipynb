{
 "cells": [
  {
   "cell_type": "markdown",
   "metadata": {},
   "source": [
    "## Welcome to Pythonista Procedural Calculator"
   ]
  },
  {
   "cell_type": "code",
   "execution_count": null,
   "metadata": {},
   "outputs": [],
   "source": [
    "\"\"\"\n",
    "   Python Calculator using Procedural Programming\n",
    "   by Mebatsion Sahle\n",
    "   April 09, 2021\n",
    "\"\"\"\n",
    "\n",
    "\n",
    "def add(x, y):\n",
    "    return x+y\n",
    "\n",
    "def subtract(x, y):\n",
    "    return x - y\n",
    "\n",
    "def multiply(x, y):\n",
    "    return x * y\n",
    "\n",
    "def division(x, y):\n",
    "    return x / y\n",
    "\n",
    "\n",
    "print(\"Welcome to Procedural Python Calculator\")\n",
    "print(\"Operations\")\n",
    "print(\"Hit 1. For aaddition\")\n",
    "print(\"Hit 2. for subtraction\")\n",
    "print(\"Hit 3. for multiplication\")\n",
    "print(\"Hit 4. for division\")\n",
    "print(\"Hit 0. to terminate the program\")\n",
    "\n",
    "while True:\n",
    "    try: \n",
    "        print(\"select your choice number\")\n",
    "        choice = int(input())\n",
    "        if choice == 1:\n",
    "            print(\"Nice now enter two numbers\")\n",
    "            number_1, number_2 = map(int, input().split())\n",
    "            print(f\"{number_1} + {number_2} = {add(number_1, number_2)}\")\n",
    "            \n",
    "        elif choice == 2:\n",
    "            print(\"Nice now enter two numbers\")\n",
    "            number_1, number_2 = map(int, input().split())\n",
    "            print(f\"{number_1} - {number_2} = {subtract(number_1, number_2)}\")\n",
    "            \n",
    "        elif choice == 3:\n",
    "            print(\"Nice now enter two numbers\")\n",
    "            number_1, number_2 = map(int, input().split())\n",
    "            print(f\"{number_1} * {number_2} = {multiply(number_1, number_2)}\")\n",
    "            \n",
    "        elif choice == 4:\n",
    "            print(\"Nice now enter two numbers\")\n",
    "            number_1, number_2 = map(int, input().split())\n",
    "            print(f\"{number_1} / {number_2} = {division(number_1, number_2)}\")\n",
    "        elif choice == 0:\n",
    "            break\n",
    "    except EOFError:\n",
    "        break"
   ]
  },
  {
   "cell_type": "markdown",
   "metadata": {},
   "source": [
    "### Mebatsion Sahle"
   ]
  },
  {
   "cell_type": "code",
   "execution_count": null,
   "metadata": {},
   "outputs": [],
   "source": []
  }
 ],
 "metadata": {
  "kernelspec": {
   "display_name": "Python 3",
   "language": "python",
   "name": "python3"
  },
  "language_info": {
   "codemirror_mode": {
    "name": "ipython",
    "version": 3
   },
   "file_extension": ".py",
   "mimetype": "text/x-python",
   "name": "python",
   "nbconvert_exporter": "python",
   "pygments_lexer": "ipython3",
   "version": "3.7.4"
  }
 },
 "nbformat": 4,
 "nbformat_minor": 4
}
