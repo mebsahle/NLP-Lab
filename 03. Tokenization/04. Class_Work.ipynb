{
 "cells": [
  {
   "cell_type": "markdown",
   "metadata": {},
   "source": [
    "## Class Work 1"
   ]
  },
  {
   "cell_type": "code",
   "execution_count": null,
   "metadata": {},
   "outputs": [],
   "source": [
    "import nltk"
   ]
  },
  {
   "cell_type": "code",
   "execution_count": null,
   "metadata": {},
   "outputs": [],
   "source": [
    "\"\"\"\n",
    "    Topics \n",
    "    Word Tokenization\n",
    "    sentence Tokenization\n",
    "    Parts of Speech Tagging\n",
    "    Chunking a text\n",
    "    Chunking Graph of a text\n",
    "    \n",
    "    by Mebatsion Sahle\n",
    "    April 09, 2021\n",
    "\"\"\"\n",
    "\n",
    "from nltk.tokenize import word_tokenize, sent_tokenize\n",
    "\n",
    "from nltk import pos_tag\n",
    "from nltk import RegexpParser\n",
    "\n",
    "def wordTokenization(text):\n",
    "    return word_tokenize(text)\n",
    "\n",
    "def sentenceTokenization(text):\n",
    "    return sent_tokenize(text)\n",
    "\n",
    "def posTag(text):\n",
    "    print(nltk.pos_tag(text))\n",
    "\n",
    "def chunking(text):\n",
    "    text =text.split()\n",
    "    tokens_tag = pos_tag(text)\n",
    "    print(\"After tag: \", tokens_tag)\n",
    "    patterns = \"\"\"mychunk:{<NN.?>*<VBD.?>*<JJ.?>*<CC>?}\"\"\"\n",
    "    chunker = RegexpParser(patterns)\n",
    "    print(\"After Regex:\", chunker)\n",
    "    output = chunker.parse(tokens_tag)\n",
    "    print(\"After Chunking\", output)\n",
    "\n",
    "def chunkingGraph(text):\n",
    "    tokens = nltk.word_tokenize(text)\n",
    "    print(tokens)\n",
    "    tag = nltk.pos_tag(tokens)\n",
    "    print(tag)\n",
    "    grammar = \"NP: {<DT>?<JJ>*<NN>}\"\n",
    "    cp = nltk.RegexpParser(grammar)\n",
    "    result = cp.parse(tag)\n",
    "    result.draw()\n",
    "    \n",
    "print(\"*** Main Menu ***\")\n",
    "print(\"Hit 1 for Word Tokenization\")\n",
    "print(\"Hit 2 for sentence Tokenization\")\n",
    "print(\"Hit 3 for Parts of Speech Tagging\")\n",
    "print(\"Hit 4 for Chunking your text\")\n",
    "print(\"Hit 5 for Chunking Graph of your text\")\n",
    "\n",
    "while True:\n",
    "    try: \n",
    "        print(\"Select your choice number:\")\n",
    "        choice = int(input())\n",
    "        \n",
    "        if choice  == 1:\n",
    "            print(\"Please enter your text below\")\n",
    "            text = input()\n",
    "            print(\"Your Tokenized Words are\")\n",
    "            print(wordTokenization(text))\n",
    "        elif choice  == 2:\n",
    "            print(\"Please enter your text below\")\n",
    "            text = input()\n",
    "            print(\"Your Tokenized Sentences are\")\n",
    "            print(sentenceTokenization(text))\n",
    "        elif choice  == 3:\n",
    "            print(\"Please enter your text below\")\n",
    "            text = input()\n",
    "            print(\"Your sentence Parts of Speech Words are\")\n",
    "            posTag(text)\n",
    "        elif choice  == 4:\n",
    "            print(\"Please enter your text below\")\n",
    "            text = input()\n",
    "            print(\"Your Chunked Words are\")\n",
    "            chunking(text)\n",
    "            \n",
    "        elif choice == 5:\n",
    "            print(\"Enter your text below\")\n",
    "            text = input()\n",
    "            chunkingGraph(text)\n",
    "\n",
    "    except:\n",
    "        pass\n"
   ]
  },
  {
   "cell_type": "markdown",
   "metadata": {},
   "source": [
    "##### Mebatsion Sahle"
   ]
  },
  {
   "cell_type": "code",
   "execution_count": null,
   "metadata": {},
   "outputs": [],
   "source": []
  }
 ],
 "metadata": {
  "kernelspec": {
   "display_name": "Python 3",
   "language": "python",
   "name": "python3"
  },
  "language_info": {
   "codemirror_mode": {
    "name": "ipython",
    "version": 3
   },
   "file_extension": ".py",
   "mimetype": "text/x-python",
   "name": "python",
   "nbconvert_exporter": "python",
   "pygments_lexer": "ipython3",
   "version": "3.7.4"
  }
 },
 "nbformat": 4,
 "nbformat_minor": 4
}
